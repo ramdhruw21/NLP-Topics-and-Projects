{
 "cells": [
  {
   "cell_type": "code",
   "execution_count": 20,
   "id": "096bb04c-115b-4584-a9db-dfc6d4faf01f",
   "metadata": {},
   "outputs": [],
   "source": [
    "x = \"Natural language processing (NLP) is an interdisciplinary subfield of computer science and artificial intelligence. It is primarily concerned with providing computers with the ability to process data encoded in natural language. And is thus closely related to information retrieval. knowledge representation and computational linguistics, a subfield of linguistics.\""
   ]
  },
  {
   "cell_type": "code",
   "execution_count": 2,
   "id": "35ff126c-ce06-49ca-95bf-192eb5b82d54",
   "metadata": {},
   "outputs": [],
   "source": [
    "import nltk\n",
    "from nltk.tokenize import word_tokenize, sent_tokenize\n"
   ]
  },
  {
   "cell_type": "code",
   "execution_count": 2,
   "id": "3a9edf29-ce6d-4b86-829a-91b246793e34",
   "metadata": {},
   "outputs": [
    {
     "name": "stderr",
     "output_type": "stream",
     "text": [
      "[nltk_data] Downloading package punkt_tab to\n",
      "[nltk_data]     C:\\Users\\91934\\AppData\\Roaming\\nltk_data...\n",
      "[nltk_data]   Package punkt_tab is already up-to-date!\n"
     ]
    },
    {
     "data": {
      "text/plain": [
       "True"
      ]
     },
     "execution_count": 2,
     "metadata": {},
     "output_type": "execute_result"
    }
   ],
   "source": [
    "nltk.download('punkt_tab')"
   ]
  },
  {
   "cell_type": "code",
   "execution_count": 5,
   "id": "ec404850-89a8-4a2b-a796-862115b66b9a",
   "metadata": {},
   "outputs": [],
   "source": [
    "w = word_tokenize(x)"
   ]
  },
  {
   "cell_type": "code",
   "execution_count": 6,
   "id": "ed18fd38-ff1b-4ed8-8939-633dfce95e98",
   "metadata": {},
   "outputs": [
    {
     "data": {
      "text/plain": [
       "['Natural',\n",
       " 'language',\n",
       " 'processing',\n",
       " '(',\n",
       " 'NLP',\n",
       " ')',\n",
       " 'is',\n",
       " 'an',\n",
       " 'interdisciplinary',\n",
       " 'subfield',\n",
       " 'of',\n",
       " 'computer',\n",
       " 'science',\n",
       " 'and',\n",
       " 'artificial',\n",
       " 'intelligence',\n",
       " '.',\n",
       " 'It',\n",
       " 'is',\n",
       " 'primarily',\n",
       " 'concerned',\n",
       " 'with',\n",
       " 'providing',\n",
       " 'computers',\n",
       " 'with',\n",
       " 'the',\n",
       " 'ability',\n",
       " 'to',\n",
       " 'process',\n",
       " 'data',\n",
       " 'encoded',\n",
       " 'in',\n",
       " 'natural',\n",
       " 'language',\n",
       " 'and',\n",
       " 'is',\n",
       " 'thus',\n",
       " 'closely',\n",
       " 'related',\n",
       " 'to',\n",
       " 'information',\n",
       " 'retrieval',\n",
       " ',',\n",
       " 'knowledge',\n",
       " 'representation',\n",
       " 'and',\n",
       " 'computational',\n",
       " 'linguistics',\n",
       " ',',\n",
       " 'a',\n",
       " 'subfield',\n",
       " 'of',\n",
       " 'linguistics',\n",
       " '.']"
      ]
     },
     "execution_count": 6,
     "metadata": {},
     "output_type": "execute_result"
    }
   ],
   "source": [
    "w"
   ]
  },
  {
   "cell_type": "code",
   "execution_count": 6,
   "id": "be2f4795-4900-4a09-aeaf-fa33641bedf4",
   "metadata": {},
   "outputs": [
    {
     "name": "stderr",
     "output_type": "stream",
     "text": [
      "[nltk_data] Downloading package averaged_perceptron_tagger_eng to\n",
      "[nltk_data]     C:\\Users\\91934\\AppData\\Roaming\\nltk_data...\n",
      "[nltk_data]   Package averaged_perceptron_tagger_eng is already up-to-\n",
      "[nltk_data]       date!\n"
     ]
    },
    {
     "data": {
      "text/plain": [
       "True"
      ]
     },
     "execution_count": 6,
     "metadata": {},
     "output_type": "execute_result"
    }
   ],
   "source": [
    "from nltk import pos_tag\n",
    "nltk.download('averaged_perceptron_tagger_eng')"
   ]
  },
  {
   "cell_type": "code",
   "execution_count": 7,
   "id": "2d8f282e-f8b2-427e-bb11-14960b522979",
   "metadata": {},
   "outputs": [],
   "source": [
    "p = pos_tag(w)"
   ]
  },
  {
   "cell_type": "code",
   "execution_count": 11,
   "id": "060bc567-4668-4096-8a79-686ce4912789",
   "metadata": {},
   "outputs": [
    {
     "data": {
      "text/plain": [
       "[('Natural', 'JJ'),\n",
       " ('language', 'NN'),\n",
       " ('processing', 'NN'),\n",
       " ('(', '('),\n",
       " ('NLP', 'NNP'),\n",
       " (')', ')'),\n",
       " ('is', 'VBZ'),\n",
       " ('an', 'DT'),\n",
       " ('interdisciplinary', 'JJ'),\n",
       " ('subfield', 'NN'),\n",
       " ('of', 'IN'),\n",
       " ('computer', 'NN'),\n",
       " ('science', 'NN'),\n",
       " ('and', 'CC'),\n",
       " ('artificial', 'JJ'),\n",
       " ('intelligence', 'NN'),\n",
       " ('.', '.'),\n",
       " ('It', 'PRP'),\n",
       " ('is', 'VBZ'),\n",
       " ('primarily', 'RB'),\n",
       " ('concerned', 'VBN'),\n",
       " ('with', 'IN'),\n",
       " ('providing', 'VBG'),\n",
       " ('computers', 'NNS'),\n",
       " ('with', 'IN'),\n",
       " ('the', 'DT'),\n",
       " ('ability', 'NN'),\n",
       " ('to', 'TO'),\n",
       " ('process', 'VB'),\n",
       " ('data', 'NNS'),\n",
       " ('encoded', 'VBN'),\n",
       " ('in', 'IN'),\n",
       " ('natural', 'JJ'),\n",
       " ('language', 'NN'),\n",
       " ('and', 'CC'),\n",
       " ('is', 'VBZ'),\n",
       " ('thus', 'RB'),\n",
       " ('closely', 'RB'),\n",
       " ('related', 'JJ'),\n",
       " ('to', 'TO'),\n",
       " ('information', 'NN'),\n",
       " ('retrieval', 'NN'),\n",
       " (',', ','),\n",
       " ('knowledge', 'NN'),\n",
       " ('representation', 'NN'),\n",
       " ('and', 'CC'),\n",
       " ('computational', 'JJ'),\n",
       " ('linguistics', 'NNS'),\n",
       " (',', ','),\n",
       " ('a', 'DT'),\n",
       " ('subfield', 'NN'),\n",
       " ('of', 'IN'),\n",
       " ('linguistics', 'NNS'),\n",
       " ('.', '.')]"
      ]
     },
     "execution_count": 11,
     "metadata": {},
     "output_type": "execute_result"
    }
   ],
   "source": [
    "p"
   ]
  },
  {
   "cell_type": "markdown",
   "id": "c17f7990-0dc5-4d57-bef2-063e7a4d394a",
   "metadata": {},
   "source": [
    "Text pre processing Techniques\n",
    "Tokenization \n",
    "Stop words removel \n",
    "N-grams\n",
    "stemming\n",
    "word sense disabiguation\n",
    "count Vectorizer\n",
    "lemmatization\n",
    "TF-IDF vectorization\n",
    "Hashing Vectorization"
   ]
  },
  {
   "cell_type": "markdown",
   "id": "95794b2b-8264-412c-a518-abe81e9e851c",
   "metadata": {},
   "source": [
    "## Tokenization \n",
    "1 Sentence tokenization\n",
    "2 Word tokenization"
   ]
  },
  {
   "cell_type": "code",
   "execution_count": 21,
   "id": "4995bc85-ba18-4dc5-b292-86c210f350e8",
   "metadata": {},
   "outputs": [],
   "source": [
    "sent = sent_tokenize(x) # tokenize through full stop"
   ]
  },
  {
   "cell_type": "code",
   "execution_count": 22,
   "id": "5b4aa6a5-1ad4-4f8f-8018-abdaa1645dc9",
   "metadata": {},
   "outputs": [
    {
     "data": {
      "text/plain": [
       "['Natural language processing (NLP) is an interdisciplinary subfield of computer science and artificial intelligence.',\n",
       " 'It is primarily concerned with providing computers with the ability to process data encoded in natural language.',\n",
       " 'And is thus closely related to information retrieval.',\n",
       " 'knowledge representation and computational linguistics, a subfield of linguistics.']"
      ]
     },
     "execution_count": 22,
     "metadata": {},
     "output_type": "execute_result"
    }
   ],
   "source": [
    "sent "
   ]
  },
  {
   "cell_type": "code",
   "execution_count": 23,
   "id": "58eada51-4721-447a-b8ff-4bfb1d09cc9f",
   "metadata": {},
   "outputs": [
    {
     "name": "stdout",
     "output_type": "stream",
     "text": [
      "Natural language processing (NLP) is an interdisciplinary subfield of computer science and artificial intelligence.\n",
      "\n",
      "It is primarily concerned with providing computers with the ability to process data encoded in natural language.\n",
      "\n",
      "And is thus closely related to information retrieval.\n",
      "\n",
      "knowledge representation and computational linguistics, a subfield of linguistics.\n",
      "\n"
     ]
    }
   ],
   "source": [
    "for i in sent :\n",
    "     print(i)\n",
    "     print()"
   ]
  },
  {
   "cell_type": "markdown",
   "id": "926b1478-9757-40a5-9cb2-c9bc4fc1cd9a",
   "metadata": {},
   "source": [
    "## Stop Word Removal"
   ]
  },
  {
   "cell_type": "code",
   "execution_count": 28,
   "id": "1fddf9a4-3cc8-4bd2-983c-ebb68831100a",
   "metadata": {},
   "outputs": [
    {
     "name": "stderr",
     "output_type": "stream",
     "text": [
      "[nltk_data] Downloading package stopwords to\n",
      "[nltk_data]     C:\\Users\\91934\\AppData\\Roaming\\nltk_data...\n",
      "[nltk_data]   Package stopwords is already up-to-date!\n"
     ]
    }
   ],
   "source": [
    "from nltk.corpus import stopwords\n",
    "nltk.download('stopwords')\n",
    "from string import punctuation"
   ]
  },
  {
   "cell_type": "code",
   "execution_count": 27,
   "id": "fc6c6c16-83c8-4a39-8584-5ad027f8c555",
   "metadata": {},
   "outputs": [
    {
     "data": {
      "text/plain": [
       "['i',\n",
       " 'me',\n",
       " 'my',\n",
       " 'myself',\n",
       " 'we',\n",
       " 'our',\n",
       " 'ours',\n",
       " 'ourselves',\n",
       " 'you',\n",
       " \"you're\",\n",
       " \"you've\",\n",
       " \"you'll\",\n",
       " \"you'd\",\n",
       " 'your',\n",
       " 'yours',\n",
       " 'yourself',\n",
       " 'yourselves',\n",
       " 'he',\n",
       " 'him',\n",
       " 'his',\n",
       " 'himself',\n",
       " 'she',\n",
       " \"she's\",\n",
       " 'her',\n",
       " 'hers',\n",
       " 'herself',\n",
       " 'it',\n",
       " \"it's\",\n",
       " 'its',\n",
       " 'itself',\n",
       " 'they',\n",
       " 'them',\n",
       " 'their',\n",
       " 'theirs',\n",
       " 'themselves',\n",
       " 'what',\n",
       " 'which',\n",
       " 'who',\n",
       " 'whom',\n",
       " 'this',\n",
       " 'that',\n",
       " \"that'll\",\n",
       " 'these',\n",
       " 'those',\n",
       " 'am',\n",
       " 'is',\n",
       " 'are',\n",
       " 'was',\n",
       " 'were',\n",
       " 'be',\n",
       " 'been',\n",
       " 'being',\n",
       " 'have',\n",
       " 'has',\n",
       " 'had',\n",
       " 'having',\n",
       " 'do',\n",
       " 'does',\n",
       " 'did',\n",
       " 'doing',\n",
       " 'a',\n",
       " 'an',\n",
       " 'the',\n",
       " 'and',\n",
       " 'but',\n",
       " 'if',\n",
       " 'or',\n",
       " 'because',\n",
       " 'as',\n",
       " 'until',\n",
       " 'while',\n",
       " 'of',\n",
       " 'at',\n",
       " 'by',\n",
       " 'for',\n",
       " 'with',\n",
       " 'about',\n",
       " 'against',\n",
       " 'between',\n",
       " 'into',\n",
       " 'through',\n",
       " 'during',\n",
       " 'before',\n",
       " 'after',\n",
       " 'above',\n",
       " 'below',\n",
       " 'to',\n",
       " 'from',\n",
       " 'up',\n",
       " 'down',\n",
       " 'in',\n",
       " 'out',\n",
       " 'on',\n",
       " 'off',\n",
       " 'over',\n",
       " 'under',\n",
       " 'again',\n",
       " 'further',\n",
       " 'then',\n",
       " 'once',\n",
       " 'here',\n",
       " 'there',\n",
       " 'when',\n",
       " 'where',\n",
       " 'why',\n",
       " 'how',\n",
       " 'all',\n",
       " 'any',\n",
       " 'both',\n",
       " 'each',\n",
       " 'few',\n",
       " 'more',\n",
       " 'most',\n",
       " 'other',\n",
       " 'some',\n",
       " 'such',\n",
       " 'no',\n",
       " 'nor',\n",
       " 'not',\n",
       " 'only',\n",
       " 'own',\n",
       " 'same',\n",
       " 'so',\n",
       " 'than',\n",
       " 'too',\n",
       " 'very',\n",
       " 's',\n",
       " 't',\n",
       " 'can',\n",
       " 'will',\n",
       " 'just',\n",
       " 'don',\n",
       " \"don't\",\n",
       " 'should',\n",
       " \"should've\",\n",
       " 'now',\n",
       " 'd',\n",
       " 'll',\n",
       " 'm',\n",
       " 'o',\n",
       " 're',\n",
       " 've',\n",
       " 'y',\n",
       " 'ain',\n",
       " 'aren',\n",
       " \"aren't\",\n",
       " 'couldn',\n",
       " \"couldn't\",\n",
       " 'didn',\n",
       " \"didn't\",\n",
       " 'doesn',\n",
       " \"doesn't\",\n",
       " 'hadn',\n",
       " \"hadn't\",\n",
       " 'hasn',\n",
       " \"hasn't\",\n",
       " 'haven',\n",
       " \"haven't\",\n",
       " 'isn',\n",
       " \"isn't\",\n",
       " 'ma',\n",
       " 'mightn',\n",
       " \"mightn't\",\n",
       " 'mustn',\n",
       " \"mustn't\",\n",
       " 'needn',\n",
       " \"needn't\",\n",
       " 'shan',\n",
       " \"shan't\",\n",
       " 'shouldn',\n",
       " \"shouldn't\",\n",
       " 'wasn',\n",
       " \"wasn't\",\n",
       " 'weren',\n",
       " \"weren't\",\n",
       " 'won',\n",
       " \"won't\",\n",
       " 'wouldn',\n",
       " \"wouldn't\"]"
      ]
     },
     "execution_count": 27,
     "metadata": {},
     "output_type": "execute_result"
    }
   ],
   "source": [
    "stop = stopwords.words(\"english\")\n",
    "stop"
   ]
  },
  {
   "cell_type": "code",
   "execution_count": 33,
   "id": "8227a7c6-dde5-4b7b-9274-58f9f09d885b",
   "metadata": {},
   "outputs": [],
   "source": [
    "stop_words_list = list(punctuation) + stop"
   ]
  },
  {
   "cell_type": "code",
   "execution_count": 36,
   "id": "0f9f13c6-34ca-4325-924d-a60912139245",
   "metadata": {},
   "outputs": [
    {
     "name": "stdout",
     "output_type": "stream",
     "text": [
      "Natural\n",
      "<class 'str'>\n",
      "language\n",
      "<class 'str'>\n",
      "processing\n",
      "<class 'str'>\n",
      "NLP\n",
      "<class 'str'>\n",
      "interdisciplinary\n",
      "<class 'str'>\n",
      "subfield\n",
      "<class 'str'>\n",
      "computer\n",
      "<class 'str'>\n",
      "science\n",
      "<class 'str'>\n",
      "artificial\n",
      "<class 'str'>\n",
      "intelligence\n",
      "<class 'str'>\n",
      "It\n",
      "<class 'str'>\n",
      "primarily\n",
      "<class 'str'>\n",
      "concerned\n",
      "<class 'str'>\n",
      "providing\n",
      "<class 'str'>\n",
      "computers\n",
      "<class 'str'>\n",
      "ability\n",
      "<class 'str'>\n",
      "process\n",
      "<class 'str'>\n",
      "data\n",
      "<class 'str'>\n",
      "encoded\n",
      "<class 'str'>\n",
      "natural\n",
      "<class 'str'>\n",
      "language\n",
      "<class 'str'>\n",
      "thus\n",
      "<class 'str'>\n",
      "closely\n",
      "<class 'str'>\n",
      "related\n",
      "<class 'str'>\n",
      "information\n",
      "<class 'str'>\n",
      "retrieval\n",
      "<class 'str'>\n",
      "knowledge\n",
      "<class 'str'>\n",
      "representation\n",
      "<class 'str'>\n",
      "computational\n",
      "<class 'str'>\n",
      "linguistics\n",
      "<class 'str'>\n",
      "subfield\n",
      "<class 'str'>\n",
      "linguistics\n",
      "<class 'str'>\n"
     ]
    }
   ],
   "source": [
    "for i in w:\n",
    "    if i not in stop_words_list:\n",
    "       print(i)\n",
    "       print(type(i))\n"
   ]
  },
  {
   "cell_type": "markdown",
   "id": "d71b2bc5-aacb-4659-befb-d5ac42a39441",
   "metadata": {},
   "source": [
    "## Stemming and Lemmatization\n",
    "Stemming is a technique used to extract the base form of the words by removing affixes from them.\n",
    "Stem()-\n",
    "1 Porterstemmer\n",
    "2 Regexpstemmer\n",
    "3 Snowballstemmer\n",
    "4 Lancasterstemmer"
   ]
  },
  {
   "cell_type": "code",
   "execution_count": 37,
   "id": "4f3ac54c-312e-4717-8e88-22617fb69295",
   "metadata": {},
   "outputs": [],
   "source": [
    "from nltk.stem import LancasterStemmer, RegexpStemmer, PorterStemmer, SnowballStemmer"
   ]
  },
  {
   "cell_type": "code",
   "execution_count": 38,
   "id": "24c75253-a425-4e78-83a5-ce613536c2de",
   "metadata": {},
   "outputs": [],
   "source": [
    "l = LancasterStemmer()\n",
    "r = RegexpStemmer('ing')\n",
    "p =  PorterStemmer()\n",
    "s = SnowballStemmer('english')"
   ]
  },
  {
   "cell_type": "code",
   "execution_count": 39,
   "id": "e688b92d-3e3a-4d7b-b525-a39d5b12c8dd",
   "metadata": {},
   "outputs": [
    {
     "data": {
      "text/plain": [
       "'chang'"
      ]
     },
     "execution_count": 39,
     "metadata": {},
     "output_type": "execute_result"
    }
   ],
   "source": [
    "l.stem(\"changing\")"
   ]
  },
  {
   "cell_type": "code",
   "execution_count": 40,
   "id": "e43f03da-3f60-4296-b116-3f4d0be8b378",
   "metadata": {},
   "outputs": [
    {
     "data": {
      "text/plain": [
       "'chang'"
      ]
     },
     "execution_count": 40,
     "metadata": {},
     "output_type": "execute_result"
    }
   ],
   "source": [
    "r.stem(\"changing\")"
   ]
  },
  {
   "cell_type": "markdown",
   "id": "7dbae1d1-8feb-4183-9aa9-0222dc7ad61e",
   "metadata": {},
   "source": [
    "## Lemmatization \n",
    "same as stemming\n",
    "The output we will get after lemmatization is called 'lemma'.\n",
    "After lemmatization, we will be getting a valid word that means the same thing."
   ]
  },
  {
   "cell_type": "code",
   "execution_count": 45,
   "id": "f1d668c8-ecca-4fff-b522-5292080c264e",
   "metadata": {},
   "outputs": [
    {
     "name": "stderr",
     "output_type": "stream",
     "text": [
      "[nltk_data] Downloading package wordnet to\n",
      "[nltk_data]     C:\\Users\\91934\\AppData\\Roaming\\nltk_data...\n"
     ]
    },
    {
     "data": {
      "text/plain": [
       "True"
      ]
     },
     "execution_count": 45,
     "metadata": {},
     "output_type": "execute_result"
    }
   ],
   "source": [
    "from nltk.stem import WordNetLemmatizer\n",
    "nltk.download('wordnet')"
   ]
  },
  {
   "cell_type": "code",
   "execution_count": 43,
   "id": "3bcffcf2-f395-43da-b373-2c33171c8a71",
   "metadata": {},
   "outputs": [],
   "source": [
    "wl = WordNetLemmatizer()"
   ]
  },
  {
   "cell_type": "code",
   "execution_count": 46,
   "id": "6144330d-3492-4c30-838a-26158c561108",
   "metadata": {},
   "outputs": [
    {
     "data": {
      "text/plain": [
       "'Hello'"
      ]
     },
     "execution_count": 46,
     "metadata": {},
     "output_type": "execute_result"
    }
   ],
   "source": [
    "wl.lemmatize(\"Hello\")"
   ]
  },
  {
   "cell_type": "markdown",
   "id": "197c0327-3192-4675-88b0-eb6e0ed2919c",
   "metadata": {},
   "source": [
    " ## N-Grams"
   ]
  },
  {
   "cell_type": "code",
   "execution_count": 1,
   "id": "9468ac17-a4f8-4b9d-8b83-e49395709914",
   "metadata": {},
   "outputs": [],
   "source": [
    "y = \"Python is a popular programming language. It was created by Guido van Rossum.\""
   ]
  },
  {
   "cell_type": "code",
   "execution_count": 3,
   "id": "2110bd0b-68a7-4edd-8550-ff96c3168099",
   "metadata": {},
   "outputs": [],
   "source": [
    "wt = word_tokenize(y)"
   ]
  },
  {
   "cell_type": "code",
   "execution_count": 4,
   "id": "882180a7-9175-44d5-8065-b7e1153a0810",
   "metadata": {},
   "outputs": [
    {
     "data": {
      "text/plain": [
       "['Python',\n",
       " 'is',\n",
       " 'a',\n",
       " 'popular',\n",
       " 'programming',\n",
       " 'language',\n",
       " '.',\n",
       " 'It',\n",
       " 'was',\n",
       " 'created',\n",
       " 'by',\n",
       " 'Guido',\n",
       " 'van',\n",
       " 'Rossum',\n",
       " '.']"
      ]
     },
     "execution_count": 4,
     "metadata": {},
     "output_type": "execute_result"
    }
   ],
   "source": [
    "wt"
   ]
  },
  {
   "cell_type": "code",
   "execution_count": 5,
   "id": "75f75381-215e-404a-8e25-b2e485c09d6a",
   "metadata": {},
   "outputs": [],
   "source": [
    "from nltk.collocations import BigramCollocationFinder, TrigramCollocationFinder, ngrams"
   ]
  },
  {
   "cell_type": "code",
   "execution_count": 21,
   "id": "e0dc88b0-cf17-49a1-b3aa-fbf282c64990",
   "metadata": {},
   "outputs": [],
   "source": [
    "b = BigramCollocationFinder.from_words(wt)\n",
    "t = TrigramCollocationFinder.from_words(wt)\n",
    "n = ngrams(wt, 2)"
   ]
  },
  {
   "cell_type": "code",
   "execution_count": 13,
   "id": "75636722-825e-40ca-a7b8-0f1889e2fed6",
   "metadata": {},
   "outputs": [
    {
     "data": {
      "text/plain": [
       "FreqDist({('Python', 'is'): 1, ('is', 'a'): 1, ('a', 'popular'): 1, ('popular', 'programming'): 1, ('programming', 'language'): 1, ('language', '.'): 1, ('.', 'It'): 1, ('It', 'was'): 1, ('was', 'created'): 1, ('created', 'by'): 1, ...})"
      ]
     },
     "execution_count": 13,
     "metadata": {},
     "output_type": "execute_result"
    }
   ],
   "source": [
    "b.ngram_fd"
   ]
  },
  {
   "cell_type": "code",
   "execution_count": 15,
   "id": "59472877-98f3-4396-9681-1aebcc0ded8b",
   "metadata": {},
   "outputs": [
    {
     "data": {
      "text/plain": [
       "FreqDist({('Python', 'is', 'a'): 1, ('is', 'a', 'popular'): 1, ('a', 'popular', 'programming'): 1, ('popular', 'programming', 'language'): 1, ('programming', 'language', '.'): 1, ('language', '.', 'It'): 1, ('.', 'It', 'was'): 1, ('It', 'was', 'created'): 1, ('was', 'created', 'by'): 1, ('created', 'by', 'Guido'): 1, ...})"
      ]
     },
     "execution_count": 15,
     "metadata": {},
     "output_type": "execute_result"
    }
   ],
   "source": [
    "t.ngram_fd"
   ]
  },
  {
   "cell_type": "code",
   "execution_count": 22,
   "id": "9316e4d3-9f01-45ec-8f47-49886f65aa79",
   "metadata": {},
   "outputs": [
    {
     "name": "stdout",
     "output_type": "stream",
     "text": [
      "('Python', 'is')\n",
      "('is', 'a')\n",
      "('a', 'popular')\n",
      "('popular', 'programming')\n",
      "('programming', 'language')\n",
      "('language', '.')\n",
      "('.', 'It')\n",
      "('It', 'was')\n",
      "('was', 'created')\n",
      "('created', 'by')\n",
      "('by', 'Guido')\n",
      "('Guido', 'van')\n",
      "('van', 'Rossum')\n",
      "('Rossum', '.')\n"
     ]
    }
   ],
   "source": [
    "for i in n:\n",
    "    print(i)"
   ]
  },
  {
   "cell_type": "code",
   "execution_count": null,
   "id": "0fb63379-97da-4bc2-974d-cd44187a2fc4",
   "metadata": {},
   "outputs": [],
   "source": []
  }
 ],
 "metadata": {
  "kernelspec": {
   "display_name": "MyNewVenv",
   "language": "python",
   "name": "mynewvenv"
  },
  "language_info": {
   "codemirror_mode": {
    "name": "ipython",
    "version": 3
   },
   "file_extension": ".py",
   "mimetype": "text/x-python",
   "name": "python",
   "nbconvert_exporter": "python",
   "pygments_lexer": "ipython3",
   "version": "3.12.6"
  }
 },
 "nbformat": 4,
 "nbformat_minor": 5
}
